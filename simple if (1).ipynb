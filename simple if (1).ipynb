{
 "cells": [
  {
   "cell_type": "code",
   "execution_count": 29,
   "metadata": {},
   "outputs": [
    {
     "name": "stdout",
     "output_type": "stream",
     "text": [
      "positive\n"
     ]
    }
   ],
   "source": [
    "#WAP to check whether a number is positive. If Positive, print a message Positive\n",
    "n=56\n",
    "if  n>0:\n",
    " print(\"positive\")"
   ]
  },
  {
   "cell_type": "code",
   "execution_count": 27,
   "metadata": {},
   "outputs": [
    {
     "name": "stdout",
     "output_type": "stream",
     "text": [
      "hello world\n"
     ]
    }
   ],
   "source": [
    "#WAP to display hello world if the number is greater than 1 and lesser than 5\n",
    "n=3\n",
    "if (n>1) and (n<5):\n",
    " print(\"hello world\")"
   ]
  },
  {
   "cell_type": "code",
   "execution_count": 26,
   "metadata": {},
   "outputs": [
    {
     "name": "stdout",
     "output_type": "stream",
     "text": [
      "fizz\n"
     ]
    }
   ],
   "source": [
    "#WAP to check whether the given number is divisible by 3 or not if print fizz.\n",
    "n=18\n",
    "if n%3==0:\n",
    " print(\"fizz\")"
   ]
  },
  {
   "cell_type": "code",
   "execution_count": 30,
   "metadata": {},
   "outputs": [
    {
     "name": "stdout",
     "output_type": "stream",
     "text": [
      "(60+0j)\n"
     ]
    }
   ],
   "source": [
    "#WAP to check whether given input is divisible by 2 and 6. If the condition is satisfied, convert the given number into a complex number.\n",
    "n=60\n",
    "if n%2==0 and n%6==0:\n",
    "    print(complex(n))"
   ]
  },
  {
   "cell_type": "code",
   "execution_count": 31,
   "metadata": {},
   "outputs": [
    {
     "name": "stdout",
     "output_type": "stream",
     "text": [
      "['3', '0']\n"
     ]
    }
   ],
   "source": [
    "#WAP to check whether a given input is divisible by 3 or 5. If the condition is satisfied, the number is converted to a list.\n",
    "#i/p: 30\n",
    "# o/p:[‘3’,’0’]\n",
    "n=30\n",
    "if n%3==0 and n%5==0:\n",
    "    print(list(str(n)))"
   ]
  },
  {
   "cell_type": "code",
   "execution_count": 46,
   "metadata": {},
   "outputs": [
    {
     "name": "stdout",
     "output_type": "stream",
     "text": [
      "25\n"
     ]
    }
   ],
   "source": [
    "#Write a program to check whether a given number is multiple of 5 or not\n",
    "n=25\n",
    "if n%5==0:\n",
    "    print(n)\n"
   ]
  },
  {
   "cell_type": "code",
   "execution_count": 32,
   "metadata": {},
   "outputs": [
    {
     "name": "stdout",
     "output_type": "stream",
     "text": [
      "0\n"
     ]
    }
   ],
   "source": [
    "#WAP to check whether the given input is 0 or not if 0 prints 0.\n",
    "n=0\n",
    "if n==0:\n",
    "    print(\"0\")\n"
   ]
  },
  {
   "cell_type": "code",
   "execution_count": 34,
   "metadata": {},
   "outputs": [
    {
     "name": "stdout",
     "output_type": "stream",
     "text": [
      "negative\n"
     ]
    }
   ],
   "source": [
    "#WAP to check whether a number is negative. If negative, print a message negative.\n",
    "\n",
    "n=-90\n",
    "if n<0:\n",
    "    print(\"negative\")"
   ]
  },
  {
   "cell_type": "code",
   "execution_count": 37,
   "metadata": {},
   "outputs": [
    {
     "name": "stdout",
     "output_type": "stream",
     "text": [
      "[89]\n"
     ]
    }
   ],
   "source": [
    "#WAP to check whether a number is even or not. If even, store the value inside the list.\n",
    "n=89\n",
    "if n%2!=0:\n",
    "    print([n])"
   ]
  },
  {
   "cell_type": "code",
   "execution_count": null,
   "metadata": {},
   "outputs": [],
   "source": [
    "#WAP to check whether a number is odd or not. If odd, store the value inside the tuple"
   ]
  },
  {
   "cell_type": "code",
   "execution_count": 38,
   "metadata": {},
   "outputs": [
    {
     "name": "stdout",
     "output_type": "stream",
     "text": [
      "81\n"
     ]
    }
   ],
   "source": [
    "#WAP to check if the given number is even or not. if it is yes, to print the power of 4 in a given number\n",
    "n=9\n",
    "if n%2!=0:\n",
    "    print(n**2)\n"
   ]
  },
  {
   "cell_type": "code",
   "execution_count": null,
   "metadata": {},
   "outputs": [],
   "source": [
    "#WAP to take the input from the user as a number and check whether it is a number r not. if yes. take the number and add some value and print it.\n",
    "n=4\n",
    "\n"
   ]
  },
  {
   "cell_type": "code",
   "execution_count": 40,
   "metadata": {},
   "outputs": [
    {
     "name": "stdout",
     "output_type": "stream",
     "text": [
      "hello world\n"
     ]
    }
   ],
   "source": [
    "#WAP to display hello world if the number is greater than 1 and less than 5.\n",
    "n=4\n",
    "if n>1 and n<<5:\n",
    "    print(\"hello world\")\n",
    "\n"
   ]
  },
  {
   "cell_type": "code",
   "execution_count": 41,
   "metadata": {},
   "outputs": [
    {
     "name": "stdout",
     "output_type": "stream",
     "text": [
      "1225\n"
     ]
    }
   ],
   "source": [
    "#WAP to check whether a given value is divisible by 5 and 7. If the value is \n",
    "#divisible,to display the square of the values.\n",
    "n=35\n",
    "if n%5==0 and n%7==0:\n",
    "    print(n**2)\n"
   ]
  },
  {
   "cell_type": "code",
   "execution_count": 69,
   "metadata": {},
   "outputs": [
    {
     "name": "stdout",
     "output_type": "stream",
     "text": [
      "124\n"
     ]
    }
   ],
   "source": [
    "#WAP to check whether the given value's last digit is greater than 5 or not.if \n",
    "#greater, to perform the bitwise right shift operator (skipping value is 2)\n",
    "\n",
    "n=498\n",
    "if n%10>5:\n",
    "    res=n>>2\n",
    "print(res)        \n",
    "\n"
   ]
  },
  {
   "cell_type": "code",
   "execution_count": 66,
   "metadata": {},
   "outputs": [
    {
     "name": "stdout",
     "output_type": "stream",
     "text": [
      "1992\n"
     ]
    }
   ],
   "source": [
    "#WAP to check whether a given value is divisible by 3 and less than 30. If the value \n",
    " #is divisible,to display the square of the values.\n",
    "n=18\n",
    "if n%3==0 and n>30:\n",
    "    res=n**2    \n",
    "print(res)"
   ]
  },
  {
   "cell_type": "code",
   "execution_count": 71,
   "metadata": {},
   "outputs": [
    {
     "name": "stdout",
     "output_type": "stream",
     "text": [
      "512\n"
     ]
    }
   ],
   "source": [
    "#WAP to check whether a given value is an even number and divisible by 4. If satisfied ,to display the cube of the values.\n",
    "n=8\n",
    "if n%4==0 and n%2==0:\n",
    "    print(n**3)"
   ]
  },
  {
   "cell_type": "code",
   "execution_count": 45,
   "metadata": {},
   "outputs": [
    {
     "name": "stdout",
     "output_type": "stream",
     "text": [
      "[6]\n"
     ]
    }
   ],
   "source": [
    "#WAP to check whether a given value is even or not. If the even number stores the value inside the list\n",
    "n=6\n",
    "if n%2==0:\n",
    "    res=[n]\n",
    "    print(res)\n",
    "\n"
   ]
  },
  {
   "cell_type": "code",
   "execution_count": 72,
   "metadata": {},
   "outputs": [
    {
     "name": "stdout",
     "output_type": "stream",
     "text": [
      "4\n"
     ]
    }
   ],
   "source": [
    "# WAP to check whether a given value is a negative or even number. If satisfied ,to display the last digit of the values\n",
    "n=644\n",
    "if n<0 or n%2==0:\n",
    "    print(n%10)"
   ]
  },
  {
   "cell_type": "code",
   "execution_count": 75,
   "metadata": {},
   "outputs": [
    {
     "name": "stdout",
     "output_type": "stream",
     "text": [
      "-343\n"
     ]
    }
   ],
   "source": [
    "#WAP to check whether a given value is a negative or odd number and divisible \n",
    " # by 4. If satisfied ,to display the cube of the values.\n",
    "n=-7\n",
    "if n<0 or n%2!=0 and n%4==0:\n",
    "    print(n**3)\n",
    "\n"
   ]
  },
  {
   "cell_type": "code",
   "execution_count": 78,
   "metadata": {},
   "outputs": [
    {
     "name": "stdout",
     "output_type": "stream",
     "text": [
      "P\n"
     ]
    }
   ],
   "source": [
    "#WAP to check whether a given ascii value is divisible by 4 and even value. If satisfied, to display the ascii character.\n",
    "n=80\n",
    "if n%4==0 and n%2==0:\n",
    "    print(chr(n))\n"
   ]
  },
  {
   "cell_type": "code",
   "execution_count": 15,
   "metadata": {},
   "outputs": [],
   "source": [
    "#WAP to check whether a given value is present in between 45 to 125 and the \n",
    "#number should be divisible by 4 and 5 and even value. If satisfied, to display the \n",
    "#ascii character.\n",
    "\n",
    "n=90\n",
    "if 45<=n<125 and n%4==0 and n%5==0 and n%2==0:\n",
    "    print(chr(n))"
   ]
  },
  {
   "cell_type": "code",
   "execution_count": 13,
   "metadata": {},
   "outputs": [
    {
     "name": "stdout",
     "output_type": "stream",
     "text": [
      "300\n"
     ]
    }
   ],
   "source": [
    "#WAP to check whether a given value is present in between 25 to 100 and the number should be divisible by 4 and 5. If satisfied, to display multiplication of \n",
    "#given value with 5.\n",
    "n=60\n",
    "if 25<=n<=100 and n%4==0 and n%5==0:\n",
    "    print(n*5)"
   ]
  },
  {
   "cell_type": "code",
   "execution_count": 16,
   "metadata": {},
   "outputs": [
    {
     "name": "stdout",
     "output_type": "stream",
     "text": [
      "0\n"
     ]
    }
   ],
   "source": [
    "#WAP to check whether a given number is an integer and odd number. If the ondition is satisfied, the integer is divisible by 5 and displays the result.\n",
    "n=15\n",
    "if n>0 and n%2!=0:\n",
    "    print(n%5)"
   ]
  },
  {
   "cell_type": "code",
   "execution_count": 21,
   "metadata": {},
   "outputs": [
    {
     "name": "stdout",
     "output_type": "stream",
     "text": [
      "b\n"
     ]
    }
   ],
   "source": [
    "# WAP to check whether a given value is an integer or not. If integer, the given value is converted to string and displays the result.\n",
    "\n",
    "n=98\n",
    "if type(n)==int:\n",
    "    print(chr(n))"
   ]
  },
  {
   "cell_type": "code",
   "execution_count": 26,
   "metadata": {},
   "outputs": [
    {
     "name": "stdout",
     "output_type": "stream",
     "text": [
      "3\n"
     ]
    }
   ],
   "source": [
    "# WAP to check whether a given value is less than 125 and greater than 60 or not. \n",
    "#If the condition is satisfied, take the name and extract the middle character and display it.\n",
    "n=120\n",
    "if 60<n<125:\n",
    "    res='results'\n",
    "    op=(len(res)//2)\n",
    "    print(op)\n"
   ]
  },
  {
   "cell_type": "code",
   "execution_count": 27,
   "metadata": {},
   "outputs": [
    {
     "name": "stdout",
     "output_type": "stream",
     "text": [
      "112\n"
     ]
    }
   ],
   "source": [
    "# WAP to check whether a given two integers are equal or not. If both are equal, to perform addition and display the result.\n",
    "n=56\n",
    "m=56\n",
    "if type(n)==type(m):\n",
    "    res=n+m\n",
    "    print(res)"
   ]
  },
  {
   "cell_type": "code",
   "execution_count": 28,
   "metadata": {},
   "outputs": [
    {
     "name": "stdout",
     "output_type": "stream",
     "text": [
      "9\n"
     ]
    }
   ],
   "source": [
    "# WAP to check whether two values are equal or not. if equal, to perform \n",
    "#multiplication of two numbers and that result is division by 3 and display the value\n",
    "m=3\n",
    "n=3\n",
    "if m==n:\n",
    "    res=m*n\n",
    "    res%3==0\n",
    "    print(res)\n"
   ]
  },
  {
   "cell_type": "code",
   "execution_count": 29,
   "metadata": {},
   "outputs": [
    {
     "name": "stdout",
     "output_type": "stream",
     "text": [
      "{'a': 97}\n"
     ]
    }
   ],
   "source": [
    "# WAP to check whether a character is in the alphabet or not. If the alphabet, store \n",
    " #the value inside the dict(key as a character and value as an ascii value).\n",
    "ch='a'\n",
    "if ('a'<=ch<='z' or 'A'<=ch<='Z'):\n",
    "    res={ch:ord(ch)}\n",
    "    print(res)\n"
   ]
  },
  {
   "cell_type": "code",
   "execution_count": 30,
   "metadata": {},
   "outputs": [
    {
     "name": "stdout",
     "output_type": "stream",
     "text": [
      "{'K': 75}\n"
     ]
    }
   ],
   "source": [
    "# WAP to check whether a character is in the uppercase or not. If the uppercase, \n",
    "#store the value inside the dict(key as a character and value as an ascii value).\n",
    "ch='K'\n",
    "if ('A'<=ch<='Z'):\n",
    "    res={ch:ord(ch)}\n",
    "    print(res)"
   ]
  },
  {
   "cell_type": "code",
   "execution_count": 31,
   "metadata": {},
   "outputs": [
    {
     "name": "stdout",
     "output_type": "stream",
     "text": [
      "{'a': 65}\n"
     ]
    }
   ],
   "source": [
    "# WAP to check whether a character is in the uppercase or not. If the uppercase, \n",
    "#convert to lowercase and store the value inside the dict(character as a key and ascii value as a value)\n",
    "ch='A'\n",
    "if 'A'<=ch<='Z':\n",
    "    res=ch.lower()\n",
    "    d={res:ord(ch)}\n",
    "    print(d)"
   ]
  },
  {
   "cell_type": "code",
   "execution_count": 34,
   "metadata": {},
   "outputs": [
    {
     "name": "stdout",
     "output_type": "stream",
     "text": [
      "aaaaaaa\n"
     ]
    }
   ],
   "source": [
    "# WAP to check whether a character is in the lowercase or not. If the lowercase, to perform the replication operation on that character.\n",
    "ch='a'\n",
    "if 'a'<=ch<='z':\n",
    "    res=ch*7\n",
    "    print(res)\n"
   ]
  },
  {
   "cell_type": "code",
   "execution_count": 35,
   "metadata": {},
   "outputs": [
    {
     "name": "stdout",
     "output_type": "stream",
     "text": [
      "2\n"
     ]
    }
   ],
   "source": [
    "# WAP to check whether a character is in the ascii number or not. If the ascii number, to convert into integer\n",
    "ch='2'\n",
    "if '0'<=ch<='9':\n",
    "    res=int(ch)\n",
    "    print(res)\n",
    "\n",
    "\n",
    "\n"
   ]
  },
  {
   "cell_type": "code",
   "execution_count": 36,
   "metadata": {},
   "outputs": [
    {
     "name": "stdout",
     "output_type": "stream",
     "text": [
      "@ 64\n"
     ]
    }
   ],
   "source": [
    "# WAP to check whether a character is in the special symbol or not. If the special symbol, to display a symbol with ascii value.\n",
    "ch='@'\n",
    "if not('a'<=ch<='z' or 'A'<=ch<='Z' or '0'<=ch<='9'):\n",
    "    res=ord(ch)\n",
    "    print(ch,res)"
   ]
  },
  {
   "cell_type": "code",
   "execution_count": 37,
   "metadata": {},
   "outputs": [
    {
     "name": "stdout",
     "output_type": "stream",
     "text": [
      "66\n"
     ]
    }
   ],
   "source": [
    "#WAP to check whether a character is an even number or not. If the even number, to display an even number.\n",
    "ch='B'\n",
    "if ord(ch)%2==0:\n",
    "    print(ord(ch))\n"
   ]
  },
  {
   "cell_type": "code",
   "execution_count": 38,
   "metadata": {},
   "outputs": [
    {
     "name": "stdout",
     "output_type": "stream",
     "text": [
      "100\n"
     ]
    }
   ],
   "source": [
    "# WAP to check whether a Given two integers a and b, if any of the integers is 10 \n",
    "#or if their sum is 10, to perform the sum of the numbers and to display the square of the result.\n",
    "a=5\n",
    "b=5\n",
    "sum=a+b\n",
    "if (a==10 or b==10 )or sum==10:\n",
    "    res=sum**2\n",
    "    print(res)\n"
   ]
  },
  {
   "cell_type": "code",
   "execution_count": 39,
   "metadata": {},
   "outputs": [
    {
     "name": "stdout",
     "output_type": "stream",
     "text": [
      "98\n"
     ]
    }
   ],
   "source": [
    "# WAP to check whether a character is in the vowel or not. If the vowel,print the next character.\n",
    "ch='a'\n",
    "if ch in 'aeiouAEIOU':\n",
    "    print(ord(ch)+1)"
   ]
  },
  {
   "cell_type": "code",
   "execution_count": 40,
   "metadata": {},
   "outputs": [
    {
     "name": "stdout",
     "output_type": "stream",
     "text": [
      "97\n"
     ]
    }
   ],
   "source": [
    "#WAP to check whether a character is in the not a vowel. If it's not a vowel,print the previous character.\n",
    "ch='b'\n",
    "if ch not in 'aeiouAEIOU':\n",
    "    print(ord(ch)-1)"
   ]
  },
  {
   "cell_type": "code",
   "execution_count": 43,
   "metadata": {},
   "outputs": [
    {
     "name": "stdout",
     "output_type": "stream",
     "text": [
      "('str',)\n"
     ]
    }
   ],
   "source": [
    "# wap to check whether a given value is a multivalue data type or not  if multivalue,store the given value inside the tuple and display it\n",
    "s='str'\n",
    "if type(s) in [str,list,tuple,set,dict]:\n",
    "    res=(s,)\n",
    "    print(res)"
   ]
  },
  {
   "cell_type": "code",
   "execution_count": 44,
   "metadata": {},
   "outputs": [
    {
     "name": "stdout",
     "output_type": "stream",
     "text": [
      "{(1, 2)}\n"
     ]
    }
   ],
   "source": [
    "# WAP to check whether a given value is a single value data type or not. If single value, display the given value as a single value data type.\n",
    "t=(1,2)\n",
    "if type(t) in [str,tuple]:\n",
    "    res={t}\n",
    "    print(res)"
   ]
  },
  {
   "cell_type": "code",
   "execution_count": null,
   "metadata": {},
   "outputs": [],
   "source": [
    "#WAP to check whether a given value is an immutable data type or not. If an \n",
    "#immutable data type value, store the given value inside the set and display it.\n"
   ]
  },
  {
   "cell_type": "code",
   "execution_count": 2,
   "metadata": {},
   "outputs": [
    {
     "name": "stdout",
     "output_type": "stream",
     "text": [
      "1\n"
     ]
    }
   ],
   "source": [
    "#WAP to check whether the middle element of a given list is odd or not. If it is odd then print odd then print the number else directly print the number\n",
    "n='779'\n",
    "if (len(n)//2)%2!=0:\n",
    "    res=len(n)//2\n",
    "    print(res)\n",
    "else:\n",
    "    print(n)\n",
    "\n",
    "\n"
   ]
  },
  {
   "cell_type": "code",
   "execution_count": null,
   "metadata": {},
   "outputs": [],
   "source": [
    "#WAP Return a new string with \"not\" prefixed to the front of the original string. \n",
    "#Return the string unmodified if the string already has the word \"not\" at the beginning.\n",
    "\n",
    "\n"
   ]
  },
  {
   "cell_type": "code",
   "execution_count": null,
   "metadata": {},
   "outputs": [],
   "source": [
    "#WAP to check whether a given string(str) and one integer(n) value, to display a new string that is devoid of the character at index n. if you are given a non-empty \n",
    "#string and an int n. The value of n will be a legitimate character index from the original string, therefore it will fall within the range of 0 to len(str)-1, inclusive\n",
    "\n",
    "\n",
    "\n"
   ]
  },
  {
   "cell_type": "code",
   "execution_count": 3,
   "metadata": {},
   "outputs": [
    {
     "name": "stdout",
     "output_type": "stream",
     "text": [
      "140737229481192 140737229481192\n"
     ]
    }
   ],
   "source": [
    "#WAP to check whether the two variables are pointing to the same memory location or not if they are pointing to the same memory location then print the address of both the variables.\n",
    "a=15\n",
    "b=15\n",
    "if id(a)==id(b):\n",
    "    res=id(a)\n",
    "    ser=id(b)\n",
    "    print(res,ser)"
   ]
  },
  {
   "cell_type": "code",
   "execution_count": null,
   "metadata": {},
   "outputs": [],
   "source": [
    "#WAP to check whether the given length of the string is even or not. If the condition is satisfied, display the sequence of characters from zero position to length of collection -2.\n",
    "\n",
    "\n",
    "\n",
    "\n"
   ]
  },
  {
   "cell_type": "code",
   "execution_count": 5,
   "metadata": {},
   "outputs": [
    {
     "name": "stdout",
     "output_type": "stream",
     "text": [
      "15 15\n"
     ]
    }
   ],
   "source": [
    "#WAP to check whether the two given strings are having the same values or not. If both are not the same values then swap the values of one variable to another variable after swapping print the two values.\n",
    "x='15'\n",
    "y='15'\n",
    "if x==y:\n",
    "    temp=x\n",
    "    x=y\n",
    "    y=temp\n",
    "    print(x,y)\n",
    "\n",
    "\n",
    "\n"
   ]
  },
  {
   "cell_type": "code",
   "execution_count": 6,
   "metadata": {},
   "outputs": [
    {
     "name": "stdout",
     "output_type": "stream",
     "text": [
      "{'@': 64}\n"
     ]
    }
   ],
   "source": [
    "#WAP to check whether a given character is a special symbol or not. If satisfied, store the symbol as a key and value as a ascii value of the given character inside the dictionary.\n",
    "n='@'\n",
    "if not('a'<=n<='z' or 'A'<=n<='Z' or '0'<=n<='9'):\n",
    "    res={n:ord(n)}\n",
    "    print(res)\n",
    "\n"
   ]
  },
  {
   "cell_type": "code",
   "execution_count": 14,
   "metadata": {},
   "outputs": [
    {
     "name": "stdout",
     "output_type": "stream",
     "text": [
      "{'a': 20, 'b': 30, 'c': 50, 'd': 80}\n"
     ]
    }
   ],
   "source": [
    "#WAP to check whether a given key is not present in the dictionary or not. If the key is not present, append the new key inside the dictionary.\n",
    "n={'a':20,'b':30,'c':50}\n",
    "if 'a' in n:\n",
    "    n|={'d':80}\n",
    "    print(n)\n",
    "\n",
    "\n"
   ]
  },
  {
   "cell_type": "code",
   "execution_count": 1,
   "metadata": {},
   "outputs": [
    {
     "name": "stdout",
     "output_type": "stream",
     "text": [
      "56\n"
     ]
    }
   ],
   "source": [
    "#hdwhbndbdhcdnadsnmskjsnmanmadsjmewnmdshjewnden dfs dfnmds a,mjdw denmdcn dfnm\n",
    "n=56\n",
    "print(n)"
   ]
  }
 ],
 "metadata": {
  "kernelspec": {
   "display_name": "Python 3",
   "language": "python",
   "name": "python3"
  },
  "language_info": {
   "codemirror_mode": {
    "name": "ipython",
    "version": 3
   },
   "file_extension": ".py",
   "mimetype": "text/x-python",
   "name": "python",
   "nbconvert_exporter": "python",
   "pygments_lexer": "ipython3",
   "version": "3.11.4"
  },
  "orig_nbformat": 4
 },
 "nbformat": 4,
 "nbformat_minor": 2
}
